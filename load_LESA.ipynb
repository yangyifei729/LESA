{
 "cells": [
  {
   "cell_type": "code",
   "execution_count": null,
   "metadata": {},
   "outputs": [],
   "source": [
    "# set your GPUs\n",
    "%env CUDA_VISIBLE_DEVICES=2,3"
   ]
  },
  {
   "cell_type": "code",
   "execution_count": null,
   "metadata": {},
   "outputs": [],
   "source": [
    "import torch\n",
    "from transformers import AutoModelForCausalLM, AutoTokenizer\n",
    "import torch.nn as nn\n",
    "import numpy as np\n",
    "# 可视化层间的表示（例如使用PCA进行降维）\n",
    "import matplotlib.pyplot as plt\n",
    "from sklearn.decomposition import PCA\n",
    "from tqdm import tqdm\n",
    "from sklearn.manifold import TSNE\n",
    "from copy import deepcopy\n",
    "from tqdm import trange"
   ]
  },
  {
   "cell_type": "code",
   "execution_count": null,
   "metadata": {},
   "outputs": [],
   "source": [
    "# load model\n",
    "model_name = 'meta-llama/Meta-Llama-3-8B'\n",
    "\n",
    "tokenizer = AutoTokenizer.from_pretrained(model_name)\n",
    "model = AutoModelForCausalLM.from_pretrained(model_name, device_map='balanced_low_0')"
   ]
  },
  {
   "cell_type": "markdown",
   "metadata": {},
   "source": [
    "Load the predicted inserted layers matrices"
   ]
  },
  {
   "cell_type": "code",
   "execution_count": 4,
   "metadata": {},
   "outputs": [],
   "source": [
    "dir_path = 'YOUR_SAVE_PATH'\n",
    "up_proj_23_31_inter = torch.load(f'{dir_path}up_proj_15_31_inter.pt')\n",
    "down_proj_23_31_inter = torch.load(f'{dir_path}down_proj_15_31_inter.pt')\n",
    "gate_proj_23_31_inter = torch.load(f'{dir_path}gate_proj_15_31_inter.pt')\n",
    "k_proj_23_31_inter = torch.load(f'{dir_path}k_proj_15_31_inter.pt')\n",
    "v_proj_23_31_inter = torch.load(f'{dir_path}v_proj_15_31_inter.pt')\n",
    "o_proj_23_31_inter = torch.load(f'{dir_path}o_proj_15_31_inter.pt')\n",
    "q_proj_23_31_inter = torch.load(f'{dir_path}q_proj_15_31_inter.pt')"
   ]
  },
  {
   "cell_type": "code",
   "execution_count": null,
   "metadata": {},
   "outputs": [],
   "source": [
    "new_layers_ls = [deepcopy(model.model.layers[0]) for _ in range(16)]\n",
    "new_layers_ls[0].mlp.up_proj.weight.data"
   ]
  },
  {
   "cell_type": "code",
   "execution_count": 6,
   "metadata": {},
   "outputs": [],
   "source": [
    "idx = 0\n",
    "for (q, k, v, o, up, down, gate) in zip(q_proj_23_31_inter, k_proj_23_31_inter, v_proj_23_31_inter, o_proj_23_31_inter, up_proj_23_31_inter, down_proj_23_31_inter, gate_proj_23_31_inter):\n",
    "    assert new_layers_ls[idx].self_attn.q_proj.weight.data.shape == q.shape\n",
    "    assert new_layers_ls[idx].self_attn.k_proj.weight.data.shape == k.shape\n",
    "    assert new_layers_ls[idx].self_attn.v_proj.weight.data.shape == v.shape\n",
    "    assert new_layers_ls[idx].self_attn.o_proj.weight.data.shape == o.shape\n",
    "    assert new_layers_ls[idx].mlp.up_proj.weight.data.shape == up.shape\n",
    "    assert new_layers_ls[idx].mlp.down_proj.weight.data.shape == down.shape\n",
    "    assert new_layers_ls[idx].mlp.gate_proj.weight.data.shape == gate.shape\n",
    "\n",
    "    new_layers_ls[idx].self_attn.q_proj.weight.data = q\n",
    "    new_layers_ls[idx].self_attn.k_proj.weight.data = k\n",
    "    new_layers_ls[idx].self_attn.v_proj.weight.data = v\n",
    "    new_layers_ls[idx].self_attn.o_proj.weight.data = o\n",
    "    new_layers_ls[idx].mlp.up_proj.weight.data = up\n",
    "    new_layers_ls[idx].mlp.down_proj.weight.data = down\n",
    "    new_layers_ls[idx].mlp.gate_proj.weight.data = gate\n",
    "    \n",
    "    idx += 1"
   ]
  },
  {
   "cell_type": "code",
   "execution_count": 7,
   "metadata": {},
   "outputs": [],
   "source": [
    "new_layers_ls = [t.to('cuda:1') for t in new_layers_ls]"
   ]
  },
  {
   "cell_type": "markdown",
   "metadata": {},
   "source": [
    "Expand Model"
   ]
  },
  {
   "cell_type": "code",
   "execution_count": 8,
   "metadata": {},
   "outputs": [],
   "source": [
    "for i in range(31, 15, -1):\n",
    "    model.model.layers.insert(i, new_layers_ls[i-16])\n",
    "\n",
    "# reset layer_idx\n",
    "for idx in range(len(model.model.layers)):\n",
    "    model.model.layers[idx].self_attn.layer_idx = idx\n",
    "model.config.num_hidden_layers = len(model.model.layers)"
   ]
  },
  {
   "cell_type": "code",
   "execution_count": 9,
   "metadata": {},
   "outputs": [],
   "source": [
    "model = model.to('cuda:0')"
   ]
  },
  {
   "cell_type": "markdown",
   "metadata": {},
   "source": [
    "Evaluate PPL"
   ]
  },
  {
   "cell_type": "code",
   "execution_count": null,
   "metadata": {},
   "outputs": [],
   "source": [
    "wiki_data_path = './data/wiki_demo.txt'\n",
    "with open(wiki_data_path, 'r') as f:\n",
    "    wiki_data = f.readlines()\n",
    "    f.close()\n",
    "wiki_data_128 = [l[0:128] for l in wiki_data]\n",
    "\n",
    "ppl_ls = []\n",
    "avg_ppl = 0.0\n",
    "progress_bar = tqdm(wiki_data, postfix=f\"PPL: {avg_ppl}\")\n",
    "for l in progress_bar:\n",
    "    inp = tokenizer.encode(l, return_tensors='pt')\n",
    "    inp = inp[:,0:2048]\n",
    "    with torch.no_grad():\n",
    "        inp = inp.to('cuda:1')\n",
    "        out = model(inp, labels=inp.clone())\n",
    "        loss = out.loss\n",
    "        ppl = torch.exp(loss)\n",
    "        ppl_ls.append(ppl.item())\n",
    "    avg_ppl = np.mean(ppl_ls)\n",
    "    progress_bar.set_postfix_str(f\"PPL: {avg_ppl}\")\n",
    "    progress_bar.update(1)"
   ]
  }
 ],
 "metadata": {
  "kernelspec": {
   "display_name": "py310-train",
   "language": "python",
   "name": "python3"
  },
  "language_info": {
   "codemirror_mode": {
    "name": "ipython",
    "version": 3
   },
   "file_extension": ".py",
   "mimetype": "text/x-python",
   "name": "python",
   "nbconvert_exporter": "python",
   "pygments_lexer": "ipython3",
   "version": "3.10.16"
  }
 },
 "nbformat": 4,
 "nbformat_minor": 2
}
